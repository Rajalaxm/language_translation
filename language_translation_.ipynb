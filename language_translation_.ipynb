{
  "nbformat": 4,
  "nbformat_minor": 2,
  "metadata": {
    "colab": {
      "name": "language_translation_.ipynb",
      "provenance": [],
      "collapsed_sections": []
    },
    "kernelspec": {
      "name": "python3",
      "display_name": "Python 3"
    },
    "language_info": {
      "name": "python"
    }
  },
  "cells": [
    {
      "cell_type": "markdown",
      "source": [
        "The objective of the project is to implement language translation model aka machine translation for converting German to English(and vice versa)"
      ],
      "metadata": {
        "id": "AFERyio4OHCp"
      }
    },
    {
      "cell_type": "code",
      "execution_count": null,
      "source": [
        "import string\r\n",
        "import re\r\n",
        "from numpy import array, argmax, random, take\r\n",
        "import pandas as pd\r\n",
        "from keras.models import Sequential\r\n",
        "from keras.layers import Dense, LSTM, Embedding, Bidirectional, RepeatVector, TimeDistributed\r\n",
        "from keras.preprocessing.text import Tokenizer\r\n",
        "from keras.callbacks import ModelCheckpoint\r\n",
        "from keras.preprocessing.sequence import pad_sequences\r\n",
        "from keras.models import load_model\r\n",
        "from keras import optimizers\r\n",
        "import matplotlib.pyplot as plt\r\n",
        "% matplotlib inline\r\n",
        "pd.set_option('display.max_colwidth',200)"
      ],
      "outputs": [],
      "metadata": {
        "id": "jiAGfxlsZfqn"
      }
    },
    {
      "cell_type": "markdown",
      "source": [
        "Our data is a text file of English-German sentence pairs.First we will read the file using the function defined below."
      ],
      "metadata": {
        "id": "RIBRn-2eqW8q"
      }
    },
    {
      "cell_type": "code",
      "execution_count": null,
      "source": [
        "#function to read raw text file\r\n",
        "def read_text(filename):\r\n",
        "  #open the file\r\n",
        "  file= open(filename, mode='rt', encoding= 'utf-8')\r\n",
        "  #read all text\r\n",
        "  text= file.read()\r\n",
        "  file.close()\r\n",
        "  return text"
      ],
      "outputs": [],
      "metadata": {
        "id": "Yh8RIEzFqYM-"
      }
    },
    {
      "cell_type": "markdown",
      "source": [
        "Now let's define a function to split the text into English-German pairs separated by '\\n' and then split these pairs into English sentences and German sentences."
      ],
      "metadata": {
        "id": "Ax56EBQwq3QK"
      }
    },
    {
      "cell_type": "code",
      "execution_count": null,
      "source": [
        "#split a text into sentences\r\n",
        "def to_lines(text):\r\n",
        "  sents= text.strip().split('\\n')\r\n",
        "  sents= [i.split('\\t') for i in sents]\r\n",
        "  return sents"
      ],
      "outputs": [],
      "metadata": {
        "id": "diDReEfTq4Uf"
      }
    },
    {
      "cell_type": "code",
      "execution_count": null,
      "source": [
        "data= read_text(\"/content/sample_data/deu.txt\")\r\n",
        "deu_eng = to_lines(data)\r\n",
        "deu_eng = array(deu_eng)"
      ],
      "outputs": [],
      "metadata": {
        "id": "jKepWx8_ri4W"
      }
    },
    {
      "cell_type": "markdown",
      "source": [
        "The actual data contains over 1,50,000 sentence pairs.However, we will use the first 50,000 sentence pairs only to reduce the training time of the model.\n",
        "\n"
      ],
      "metadata": {
        "id": "2e4SOZ7trvtI"
      }
    },
    {
      "cell_type": "code",
      "execution_count": null,
      "source": [
        "deu_eng = deu_eng[:50000,:]"
      ],
      "outputs": [],
      "metadata": {
        "id": "nBQVY0NHryf-"
      }
    },
    {
      "cell_type": "code",
      "execution_count": null,
      "source": [
        "#Let's take a look at our data\r\n",
        "deu_eng"
      ],
      "outputs": [
        {
          "output_type": "execute_result",
          "data": {
            "text/plain": [
              "array([['Go.', 'Geh.',\n",
              "        'CC-BY 2.0 (France) Attribution: tatoeba.org #2877272 (CM) & #8597805 (Roujin)'],\n",
              "       ['Hi.', 'Hallo!',\n",
              "        'CC-BY 2.0 (France) Attribution: tatoeba.org #538123 (CM) & #380701 (cburgmer)'],\n",
              "       ['Hi.', 'Grüß Gott!',\n",
              "        'CC-BY 2.0 (France) Attribution: tatoeba.org #538123 (CM) & #659813 (Esperantostern)'],\n",
              "       ...,\n",
              "       ['We took a wrong turn.', 'Wir sind falsch abgebogen.',\n",
              "        'CC-BY 2.0 (France) Attribution: tatoeba.org #823901 (jellorage) & #2112094 (freddy1)'],\n",
              "       ['We traveled together.', 'Wir waren zusammen auf Reisen.',\n",
              "        'CC-BY 2.0 (France) Attribution: tatoeba.org #1582121 (Spamster) & #1600396 (Pfirsichbaeumchen)'],\n",
              "       ['We traveled together.', 'Wir sind zusammen gereist.',\n",
              "        'CC-BY 2.0 (France) Attribution: tatoeba.org #1582121 (Spamster) & #1600398 (Pfirsichbaeumchen)']],\n",
              "      dtype='<U537')"
            ]
          },
          "metadata": {
            "tags": []
          },
          "execution_count": 7
        }
      ],
      "metadata": {
        "colab": {
          "base_uri": "https://localhost:8080/"
        },
        "id": "DjC40wO5sG-t",
        "outputId": "2b184924-b2f2-4949-d6e8-e26ef0b85674"
      }
    },
    {
      "cell_type": "markdown",
      "source": [
        "Text to sequence conversion: To find our data in a Seq2Seq model, we will have to convert both the input and output sentences into integer sequences of fixed length.Before that,let's visualise the length of the sentences.We will capture the length of all the sentences in 2 seperate lists for English and German respectively.\n",
        "\n"
      ],
      "metadata": {
        "id": "XsT90JYosb5f"
      }
    },
    {
      "cell_type": "code",
      "execution_count": null,
      "source": [
        "#empty lists\r\n",
        "eng_l =[]\r\n",
        "deu_l =[]\r\n",
        "\r\n",
        "#populate the lists with sentence lengths\r\n",
        "for i in deu_eng[:,0]:\r\n",
        "  eng_l.append(len(i.split()))\r\n",
        "\r\n",
        "for i in deu_eng[:,1]:\r\n",
        "  deu_l.append(len(i.split()))"
      ],
      "outputs": [],
      "metadata": {
        "id": "-jRQjy-EzgZF"
      }
    },
    {
      "cell_type": "code",
      "execution_count": null,
      "source": [
        "length_df = pd.DataFrame({'eng': eng_l, 'deu': deu_l})"
      ],
      "outputs": [],
      "metadata": {
        "id": "VKGgJ5uXvxoq"
      }
    },
    {
      "cell_type": "code",
      "execution_count": null,
      "source": [
        "length_df.hist(bins = 30)\r\n",
        "plt.show()"
      ],
      "outputs": [
        {
          "output_type": "display_data",
          "data": {
            "text/plain": [
              "<Figure size 432x288 with 2 Axes>"
            ],
            "image/png": "[encoded data removed]"
          },
          "metadata": {
            "tags": [],
            "needs_background": "light"
          }
        }
      ],
      "metadata": {
        "colab": {
          "base_uri": "https://localhost:8080/",
          "height": 281
        },
        "id": "dx-k4f_CxZpv",
        "outputId": "1d830dc2-c783-4f41-915a-1562d7275404"
      }
    },
    {
      "cell_type": "markdown",
      "source": [
        "The maximum length of the German sentences is 11 and that of the English phrases is 8. Let's vectorize on text data by using Keras's Tokenizer() class.It will turn our sentences into sequences of integers.Then we will pad those sequences with zerosto make all the sequences of same length."
      ],
      "metadata": {
        "id": "pozgMyZhxukl"
      }
    },
    {
      "cell_type": "code",
      "execution_count": null,
      "source": [
        "#function to build a tokenizer\r\n",
        "def tokenization(lines):\r\n",
        "  tokenizer = Tokenizer()\r\n",
        "  tokenizer.fit_on_texts(lines)\r\n",
        "  return tokenizer"
      ],
      "outputs": [],
      "metadata": {
        "id": "2wzzR8hExxBv"
      }
    },
    {
      "cell_type": "code",
      "execution_count": null,
      "source": [
        "#prepare English tokenizer\r\n",
        "eng_tokenizer = tokenization(deu_eng[:,0])\r\n",
        "eng_vocab_size = len(eng_tokenizer.word_index)+1\r\n",
        "\r\n",
        "eng_length = 8\r\n",
        "print('English Vocabulary Size: %d' %eng_vocab_size)"
      ],
      "outputs": [
        {
          "output_type": "stream",
          "name": "stdout",
          "text": [
            "English Vocabulary Size: 6150\n"
          ]
        }
      ],
      "metadata": {
        "colab": {
          "base_uri": "https://localhost:8080/"
        },
        "id": "75r82l11ycWf",
        "outputId": "832b4d84-e914-46b2-8d73-43b353fc02c4"
      }
    },
    {
      "cell_type": "code",
      "execution_count": null,
      "source": [
        "#prepare Deutch tokenizer\r\n",
        "deu_tokenizer = tokenization(deu_eng[:,1])\r\n",
        "deu_vocab_size= len(deu_tokenizer.word_index) +1\r\n",
        "\r\n",
        "deu_length = 8\r\n",
        "print('Deutch Vocabulary Size = %d' % deu_vocab_size)"
      ],
      "outputs": [
        {
          "output_type": "stream",
          "name": "stdout",
          "text": [
            "Deutch Vocabulary Size = 10119\n"
          ]
        }
      ],
      "metadata": {
        "colab": {
          "base_uri": "https://localhost:8080/"
        },
        "id": "CUjJp3D-1ucg",
        "outputId": "c970b08d-4245-4ae5-f56e-9c5fcc09695e"
      }
    },
    {
      "cell_type": "markdown",
      "source": [
        "Given below is a function to prepare the sequences.It will also perform sequence padding to a maximum sentence length as mentioned above.\n"
      ],
      "metadata": {
        "id": "EsYHA61q15JK"
      }
    },
    {
      "cell_type": "code",
      "execution_count": null,
      "source": [
        "#encode and pad sequences\r\n",
        "def encode_sequences(tokenizer,length,lines):\r\n",
        "  #integer encode sequences\r\n",
        "  seq = tokenizer.texts_to_sequences(lines)\r\n",
        "  #pad sequences with 0 values\r\n",
        "  seq = pad_sequences(seq, maxlen= length, padding = 'post')\r\n",
        "  return seq"
      ],
      "outputs": [],
      "metadata": {
        "id": "6nUSDA9R18op"
      }
    },
    {
      "cell_type": "markdown",
      "source": [
        "Model building.\n",
        "\n",
        "We will now split the data into train and test set for modeltraining and evaluation respectively."
      ],
      "metadata": {
        "id": "pzAkh4Zn2HU1"
      }
    },
    {
      "cell_type": "code",
      "execution_count": null,
      "source": [
        "from sklearn.model_selection import train_test_split\r\n",
        "train, test = train_test_split(deu_eng, test_size=0.2, random_state = 12)"
      ],
      "outputs": [],
      "metadata": {
        "id": "ethleigr2V-4"
      }
    },
    {
      "cell_type": "markdown",
      "source": [
        "It's time to encode the sentences.We will encode German sentences as the input sequences and English sentences as the target sequences.It will be done for both train and test data sets.\n"
      ],
      "metadata": {
        "id": "EwMyRUEV3CFg"
      }
    },
    {
      "cell_type": "code",
      "execution_count": null,
      "source": [
        "#prepare training data\r\n",
        "trainX = encode_sequences(deu_tokenizer, deu_length, train[:,1])\r\n",
        "trainY = encode_sequences(eng_tokenizer, eng_length, train[:,0])"
      ],
      "outputs": [],
      "metadata": {
        "id": "3ydaevRK4ch_"
      }
    },
    {
      "cell_type": "code",
      "execution_count": null,
      "source": [
        "#prepare validation data\r\n",
        "testX = encode_sequences(deu_tokenizer,deu_length, test[:, 1])\r\n",
        "testY = encode_sequences(eng_tokenizer, eng_length, test[:,0])"
      ],
      "outputs": [],
      "metadata": {
        "id": "BHTkSO3q_GLA"
      }
    },
    {
      "cell_type": "markdown",
      "source": [
        "Now cover the exciting part!Let us define our Seq2Seq model architecture.We are using Embedded layer & an LSTM layer as our encoder and another LSTM layer followed by a Dense layer as the decoder.\n",
        "\n"
      ],
      "metadata": {
        "id": "nb0dwLq___S9"
      }
    },
    {
      "cell_type": "code",
      "execution_count": null,
      "source": [
        "#Build NMT Model\r\n",
        "def build_model(in_vocab, out_vocab, in_timesteps, out_timesteps, units):\r\n",
        "     model= Sequential()\r\n",
        "     model.add(Embedding(in_vocab, units, input_length= in_timesteps, mask_zero= True))\r\n",
        "     model.add(LSTM(units))\r\n",
        "     model.add(RepeatVector(out_timesteps))\r\n",
        "     model.add(LSTM(units, return_sequences= True))\r\n",
        "     model.add(Dense(out_vocab, activation='softmax'))\r\n",
        "     return model\r\n",
        "     "
      ],
      "outputs": [],
      "metadata": {
        "id": "0ATJwqHsACCL"
      }
    },
    {
      "cell_type": "markdown",
      "source": [
        "We are using RMSprop optimizer in this model as it is usually a good choice for recurrent neural networks."
      ],
      "metadata": {
        "id": "boVT2zCnAnaj"
      }
    },
    {
      "cell_type": "code",
      "execution_count": null,
      "source": [
        "model= build_model(deu_vocab_size, eng_vocab_size, deu_length, eng_length, 512)\r\n",
        "rms = optimizers.RMSprop(lr = 0.001)\r\n",
        "model.compile(optimizer=rms, loss='sparse_categorical_crossentropy')"
      ],
      "outputs": [
        {
          "output_type": "stream",
          "name": "stderr",
          "text": [
            "/usr/local/lib/python3.7/dist-packages/tensorflow/python/keras/optimizer_v2/optimizer_v2.py:375: UserWarning: The `lr` argument is deprecated, use `learning_rate` instead.\n",
            "  \"The `lr` argument is deprecated, use `learning_rate` instead.\")\n"
          ]
        }
      ],
      "metadata": {
        "colab": {
          "base_uri": "https://localhost:8080/"
        },
        "id": "DQv5g3BoDwON",
        "outputId": "67050c5c-5c1c-4704-98fd-7760043d07e2"
      }
    },
    {
      "cell_type": "markdown",
      "source": [
        "We have used 'sparse_categorical_crossentropy' as the loss function because it allows us to use the target sequence as it is instead of 1 hot encoded format.One hot encoding the target sequences with such a large vocabulary might consume our systems's entire memory. It seems we are all set to start training our model.We will train it for 30 epochs & with a batch size of 512.You may change & play these hyperparameters.We will also be using Modelchekpoint() to save the best model with lowest validation loss.I personally prefer this method over early stopping.\n"
      ],
      "metadata": {
        "id": "FoGyRYSXFEVW"
      }
    },
    {
      "cell_type": "code",
      "execution_count": null,
      "source": [
        "filename = 'model.h1.24_rajalaxmi'\r\n",
        "checkpoint = ModelCheckpoint(filename, monitor= 'val_loss', verbose=1, save_best_only = True, mode='min')\r\n",
        "\r\n",
        "history = model.fit(trainX, trainY.reshape(trainY.shape[0],trainY.shape[1], 1),\r\n",
        "          epochs = 5, batch_size=512,\r\n",
        "          validation_split = 0.2,\r\n",
        "          callbacks = [checkpoint], verbose=1)"
      ],
      "outputs": [
        {
          "output_type": "stream",
          "name": "stdout",
          "text": [
            "Epoch 1/5\n",
            "63/63 [==============================] - 203s 3s/step - loss: 4.2809 - val_loss: 2.8457\n",
            "\n",
            "Epoch 00001: val_loss improved from inf to 2.84570, saving model to model.h1.24_rajalaxmi\n"
          ]
        },
        {
          "output_type": "stream",
          "name": "stderr",
          "text": [
            "WARNING:absl:Found untraced functions such as lstm_cell_layer_call_fn, lstm_cell_layer_call_and_return_conditional_losses, lstm_cell_1_layer_call_fn, lstm_cell_1_layer_call_and_return_conditional_losses, lstm_cell_layer_call_fn while saving (showing 5 of 10). These functions will not be directly callable after loading.\n"
          ]
        },
        {
          "output_type": "stream",
          "name": "stdout",
          "text": [
            "INFO:tensorflow:Assets written to: model.h1.24_rajalaxmi/assets\n"
          ]
        },
        {
          "output_type": "stream",
          "name": "stderr",
          "text": [
            "INFO:tensorflow:Assets written to: model.h1.24_rajalaxmi/assets\n"
          ]
        },
        {
          "output_type": "stream",
          "name": "stdout",
          "text": [
            "Epoch 2/5\n",
            "63/63 [==============================] - 180s 3s/step - loss: 2.7259 - val_loss: 2.6494\n",
            "\n",
            "Epoch 00002: val_loss improved from 2.84570 to 2.64939, saving model to model.h1.24_rajalaxmi\n"
          ]
        },
        {
          "output_type": "stream",
          "name": "stderr",
          "text": [
            "WARNING:absl:Found untraced functions such as lstm_cell_layer_call_fn, lstm_cell_layer_call_and_return_conditional_losses, lstm_cell_1_layer_call_fn, lstm_cell_1_layer_call_and_return_conditional_losses, lstm_cell_layer_call_fn while saving (showing 5 of 10). These functions will not be directly callable after loading.\n"
          ]
        },
        {
          "output_type": "stream",
          "name": "stdout",
          "text": [
            "INFO:tensorflow:Assets written to: model.h1.24_rajalaxmi/assets\n"
          ]
        },
        {
          "output_type": "stream",
          "name": "stderr",
          "text": [
            "INFO:tensorflow:Assets written to: model.h1.24_rajalaxmi/assets\n"
          ]
        },
        {
          "output_type": "stream",
          "name": "stdout",
          "text": [
            "Epoch 3/5\n",
            "63/63 [==============================] - 181s 3s/step - loss: 2.5523 - val_loss: 2.4717\n",
            "\n",
            "Epoch 00003: val_loss improved from 2.64939 to 2.47168, saving model to model.h1.24_rajalaxmi\n"
          ]
        },
        {
          "output_type": "stream",
          "name": "stderr",
          "text": [
            "WARNING:absl:Found untraced functions such as lstm_cell_layer_call_fn, lstm_cell_layer_call_and_return_conditional_losses, lstm_cell_1_layer_call_fn, lstm_cell_1_layer_call_and_return_conditional_losses, lstm_cell_layer_call_fn while saving (showing 5 of 10). These functions will not be directly callable after loading.\n"
          ]
        },
        {
          "output_type": "stream",
          "name": "stdout",
          "text": [
            "INFO:tensorflow:Assets written to: model.h1.24_rajalaxmi/assets\n"
          ]
        },
        {
          "output_type": "stream",
          "name": "stderr",
          "text": [
            "INFO:tensorflow:Assets written to: model.h1.24_rajalaxmi/assets\n"
          ]
        },
        {
          "output_type": "stream",
          "name": "stdout",
          "text": [
            "Epoch 4/5\n",
            "63/63 [==============================] - 179s 3s/step - loss: 2.3692 - val_loss: 2.3490\n",
            "\n",
            "Epoch 00004: val_loss improved from 2.47168 to 2.34905, saving model to model.h1.24_rajalaxmi\n"
          ]
        },
        {
          "output_type": "stream",
          "name": "stderr",
          "text": [
            "WARNING:absl:Found untraced functions such as lstm_cell_layer_call_fn, lstm_cell_layer_call_and_return_conditional_losses, lstm_cell_1_layer_call_fn, lstm_cell_1_layer_call_and_return_conditional_losses, lstm_cell_layer_call_fn while saving (showing 5 of 10). These functions will not be directly callable after loading.\n"
          ]
        },
        {
          "output_type": "stream",
          "name": "stdout",
          "text": [
            "INFO:tensorflow:Assets written to: model.h1.24_rajalaxmi/assets\n"
          ]
        },
        {
          "output_type": "stream",
          "name": "stderr",
          "text": [
            "INFO:tensorflow:Assets written to: model.h1.24_rajalaxmi/assets\n"
          ]
        },
        {
          "output_type": "stream",
          "name": "stdout",
          "text": [
            "Epoch 5/5\n",
            "63/63 [==============================] - 179s 3s/step - loss: 2.2101 - val_loss: 2.2319\n",
            "\n",
            "Epoch 00005: val_loss improved from 2.34905 to 2.23191, saving model to model.h1.24_rajalaxmi\n"
          ]
        },
        {
          "output_type": "stream",
          "name": "stderr",
          "text": [
            "WARNING:absl:Found untraced functions such as lstm_cell_layer_call_fn, lstm_cell_layer_call_and_return_conditional_losses, lstm_cell_1_layer_call_fn, lstm_cell_1_layer_call_and_return_conditional_losses, lstm_cell_layer_call_fn while saving (showing 5 of 10). These functions will not be directly callable after loading.\n"
          ]
        },
        {
          "output_type": "stream",
          "name": "stdout",
          "text": [
            "INFO:tensorflow:Assets written to: model.h1.24_rajalaxmi/assets\n"
          ]
        },
        {
          "output_type": "stream",
          "name": "stderr",
          "text": [
            "INFO:tensorflow:Assets written to: model.h1.24_rajalaxmi/assets\n"
          ]
        }
      ],
      "metadata": {
        "colab": {
          "base_uri": "https://localhost:8080/"
        },
        "id": "rhllH-JPFNfY",
        "outputId": "8070995e-a5bb-410d-f1f6-c160a04f29df"
      }
    },
    {
      "cell_type": "markdown",
      "source": [
        "Let's compare the training loss & validation loss"
      ],
      "metadata": {
        "id": "1v8JHFO2J1CS"
      }
    },
    {
      "cell_type": "code",
      "execution_count": null,
      "source": [
        "plt.plot(history.history['loss'])\r\n",
        "plt.plot(history.history['val_loss'])\r\n",
        "plt.legend(['train', 'validation'])\r\n",
        "plt.show()"
      ],
      "outputs": [
        {
          "output_type": "display_data",
          "data": {
            "text/plain": [
              "<Figure size 432x288 with 1 Axes>"
            ],
            "image/png": "[encoded data removed]"
          },
          "metadata": {
            "tags": [],
            "needs_background": "light"
          }
        }
      ],
      "metadata": {
        "colab": {
          "base_uri": "https://localhost:8080/",
          "height": 265
        },
        "id": "h7bUmVD4J2PB",
        "outputId": "5b844eb7-e274-4ede-9eda-0b9cbe02b19f"
      }
    },
    {
      "cell_type": "markdown",
      "source": [
        "Let's load the saved model to make predictions."
      ],
      "metadata": {
        "id": "5G8oI1-sKh_v"
      }
    },
    {
      "cell_type": "code",
      "execution_count": null,
      "source": [
        "model = load_model('model.h1.24_rajalaxmi')\r\n",
        "preds = model.predict_classes(testX.reshape((testX.shape[0],testX.shape[1])))"
      ],
      "outputs": [
        {
          "output_type": "stream",
          "name": "stderr",
          "text": [
            "/usr/local/lib/python3.7/dist-packages/keras/engine/sequential.py:450: UserWarning: `model.predict_classes()` is deprecated and will be removed after 2021-01-01. Please use instead:* `np.argmax(model.predict(x), axis=-1)`,   if your model does multi-class classification   (e.g. if it uses a `softmax` last-layer activation).* `(model.predict(x) > 0.5).astype(\"int32\")`,   if your model does binary classification   (e.g. if it uses a `sigmoid` last-layer activation).\n",
            "  warnings.warn('`model.predict_classes()` is deprecated and '\n"
          ]
        }
      ],
      "metadata": {
        "colab": {
          "base_uri": "https://localhost:8080/"
        },
        "id": "3jXVZr2cKkXu",
        "outputId": "7ed838cb-9680-4120-e0ee-dab89fd162ff"
      }
    },
    {
      "cell_type": "code",
      "execution_count": null,
      "source": [
        "def get_word(n, tokenizer):\r\n",
        "  for word, index in tokenizer.word_index.items():\r\n",
        "    if index == n:\r\n",
        "      return word\r\n",
        "  return None"
      ],
      "outputs": [],
      "metadata": {
        "id": "rXVpcaeLLNU5"
      }
    },
    {
      "cell_type": "code",
      "execution_count": null,
      "source": [
        "#convert prediction into text(English)\r\n",
        "preds_text =[]\r\n",
        "for i in preds:\r\n",
        "  temp =[]\r\n",
        "  for j in range(len(i)):\r\n",
        "      t = get_word(i[j], eng_tokenizer)\r\n",
        "      if j> 0:\r\n",
        "         if(t== get_word(i[j-1], eng_tokenizer))or(t== None):\r\n",
        "            temp.append('')\r\n",
        "         else:\r\n",
        "             temp.append(t)\r\n",
        "\r\n",
        "      else:\r\n",
        "         if(t== None):\r\n",
        "             temp.append('')\r\n",
        "         else:\r\n",
        "             temp.append(t)\r\n",
        "  preds_text.append(''.join(temp))"
      ],
      "outputs": [],
      "metadata": {
        "id": "Zb4qyARXLldq"
      }
    },
    {
      "cell_type": "code",
      "execution_count": null,
      "source": [
        "pred_df = pd.DataFrame({'actual': test[:,0], 'predicted': preds_text})"
      ],
      "outputs": [],
      "metadata": {
        "id": "LEX7IUyXNCg0"
      }
    },
    {
      "cell_type": "code",
      "execution_count": null,
      "source": [
        "pd.set_option('display.max_colwidth', 200)"
      ],
      "outputs": [],
      "metadata": {
        "id": "Ux_folvpNMEj"
      }
    },
    {
      "cell_type": "code",
      "execution_count": null,
      "source": [
        "pred_df.head(15)"
      ],
      "outputs": [
        {
          "output_type": "execute_result",
          "data": {
            "text/plain": [
              "                   actual  predicted\n",
              "0     What is the number?        the\n",
              "1              Try it on.  pleaseare\n",
              "2          We were wrong.   we'renot\n",
              "3          That's untrue.       itis\n",
              "4   Don't touch anything.  you'reare\n",
              "5    Tom is calling back.  tomisvery\n",
              "6   I think Tom is awake.    iwastom\n",
              "7    What are you having?   howdoyou\n",
              "8       I like that flag.     ihavea\n",
              "9    You have a good job.    didyoua\n",
              "10         I was at home.      iwasa\n",
              "11            I'm a monk.    i'mnota\n",
              "12         Did I ask you?    ihaveto\n",
              "13         Are you angry?     areyou\n",
              "14       Tom is generous.  tomisvery"
            ],
            "text/html": [
              "<div>\n",
              "<style scoped>\n",
              "    .dataframe tbody tr th:only-of-type {\n",
              "        vertical-align: middle;\n",
              "    }\n",
              "\n",
              "    .dataframe tbody tr th {\n",
              "        vertical-align: top;\n",
              "    }\n",
              "\n",
              "    .dataframe thead th {\n",
              "        text-align: right;\n",
              "    }\n",
              "</style>\n",
              "<table border=\"1\" class=\"dataframe\">\n",
              "  <thead>\n",
              "    <tr style=\"text-align: right;\">\n",
              "      <th></th>\n",
              "      <th>actual</th>\n",
              "      <th>predicted</th>\n",
              "    </tr>\n",
              "  </thead>\n",
              "  <tbody>\n",
              "    <tr>\n",
              "      <th>0</th>\n",
              "      <td>What is the number?</td>\n",
              "      <td>the</td>\n",
              "    </tr>\n",
              "    <tr>\n",
              "      <th>1</th>\n",
              "      <td>Try it on.</td>\n",
              "      <td>pleaseare</td>\n",
              "    </tr>\n",
              "    <tr>\n",
              "      <th>2</th>\n",
              "      <td>We were wrong.</td>\n",
              "      <td>we'renot</td>\n",
              "    </tr>\n",
              "    <tr>\n",
              "      <th>3</th>\n",
              "      <td>That's untrue.</td>\n",
              "      <td>itis</td>\n",
              "    </tr>\n",
              "    <tr>\n",
              "      <th>4</th>\n",
              "      <td>Don't touch anything.</td>\n",
              "      <td>you'reare</td>\n",
              "    </tr>\n",
              "    <tr>\n",
              "      <th>5</th>\n",
              "      <td>Tom is calling back.</td>\n",
              "      <td>tomisvery</td>\n",
              "    </tr>\n",
              "    <tr>\n",
              "      <th>6</th>\n",
              "      <td>I think Tom is awake.</td>\n",
              "      <td>iwastom</td>\n",
              "    </tr>\n",
              "    <tr>\n",
              "      <th>7</th>\n",
              "      <td>What are you having?</td>\n",
              "      <td>howdoyou</td>\n",
              "    </tr>\n",
              "    <tr>\n",
              "      <th>8</th>\n",
              "      <td>I like that flag.</td>\n",
              "      <td>ihavea</td>\n",
              "    </tr>\n",
              "    <tr>\n",
              "      <th>9</th>\n",
              "      <td>You have a good job.</td>\n",
              "      <td>didyoua</td>\n",
              "    </tr>\n",
              "    <tr>\n",
              "      <th>10</th>\n",
              "      <td>I was at home.</td>\n",
              "      <td>iwasa</td>\n",
              "    </tr>\n",
              "    <tr>\n",
              "      <th>11</th>\n",
              "      <td>I'm a monk.</td>\n",
              "      <td>i'mnota</td>\n",
              "    </tr>\n",
              "    <tr>\n",
              "      <th>12</th>\n",
              "      <td>Did I ask you?</td>\n",
              "      <td>ihaveto</td>\n",
              "    </tr>\n",
              "    <tr>\n",
              "      <th>13</th>\n",
              "      <td>Are you angry?</td>\n",
              "      <td>areyou</td>\n",
              "    </tr>\n",
              "    <tr>\n",
              "      <th>14</th>\n",
              "      <td>Tom is generous.</td>\n",
              "      <td>tomisvery</td>\n",
              "    </tr>\n",
              "  </tbody>\n",
              "</table>\n",
              "</div>"
            ]
          },
          "metadata": {
            "tags": []
          },
          "execution_count": 53
        }
      ],
      "metadata": {
        "colab": {
          "base_uri": "https://localhost:8080/",
          "height": 511
        },
        "id": "04WtV1hLNWXt",
        "outputId": "7d11cf25-62d2-4e81-b942-f9413377ed11"
      }
    },
    {
      "cell_type": "code",
      "execution_count": null,
      "source": [
        "pred_df.tail(15)"
      ],
      "outputs": [
        {
          "output_type": "execute_result",
          "data": {
            "text/plain": [
              "                    actual  predicted\n",
              "9985    I saw you looking.  ihavetoma\n",
              "9986      Tom was so busy.     tomisa\n",
              "9987    Where could he be?   hedidyou\n",
              "9988   My friend was shot.       myis\n",
              "9989    Come on, trust me.    whatyou\n",
              "9990    Life is too short.      heisa\n",
              "9991     Everybody saw it.  areyoutom\n",
              "9992           Try harder.   pleaseme\n",
              "9993  He will be punished.      heisa\n",
              "9994      I speak Swedish.        iam\n",
              "9995   Have fun, you guys.       ithe\n",
              "9996   Give Tom my thanks.  whatdoyou\n",
              "9997     Do what you must.  howdidyou\n",
              "9998  Tom combed his hair.      tomis\n",
              "9999    Is this car yours?    thisisa"
            ],
            "text/html": [
              "<div>\n",
              "<style scoped>\n",
              "    .dataframe tbody tr th:only-of-type {\n",
              "        vertical-align: middle;\n",
              "    }\n",
              "\n",
              "    .dataframe tbody tr th {\n",
              "        vertical-align: top;\n",
              "    }\n",
              "\n",
              "    .dataframe thead th {\n",
              "        text-align: right;\n",
              "    }\n",
              "</style>\n",
              "<table border=\"1\" class=\"dataframe\">\n",
              "  <thead>\n",
              "    <tr style=\"text-align: right;\">\n",
              "      <th></th>\n",
              "      <th>actual</th>\n",
              "      <th>predicted</th>\n",
              "    </tr>\n",
              "  </thead>\n",
              "  <tbody>\n",
              "    <tr>\n",
              "      <th>9985</th>\n",
              "      <td>I saw you looking.</td>\n",
              "      <td>ihavetoma</td>\n",
              "    </tr>\n",
              "    <tr>\n",
              "      <th>9986</th>\n",
              "      <td>Tom was so busy.</td>\n",
              "      <td>tomisa</td>\n",
              "    </tr>\n",
              "    <tr>\n",
              "      <th>9987</th>\n",
              "      <td>Where could he be?</td>\n",
              "      <td>hedidyou</td>\n",
              "    </tr>\n",
              "    <tr>\n",
              "      <th>9988</th>\n",
              "      <td>My friend was shot.</td>\n",
              "      <td>myis</td>\n",
              "    </tr>\n",
              "    <tr>\n",
              "      <th>9989</th>\n",
              "      <td>Come on, trust me.</td>\n",
              "      <td>whatyou</td>\n",
              "    </tr>\n",
              "    <tr>\n",
              "      <th>9990</th>\n",
              "      <td>Life is too short.</td>\n",
              "      <td>heisa</td>\n",
              "    </tr>\n",
              "    <tr>\n",
              "      <th>9991</th>\n",
              "      <td>Everybody saw it.</td>\n",
              "      <td>areyoutom</td>\n",
              "    </tr>\n",
              "    <tr>\n",
              "      <th>9992</th>\n",
              "      <td>Try harder.</td>\n",
              "      <td>pleaseme</td>\n",
              "    </tr>\n",
              "    <tr>\n",
              "      <th>9993</th>\n",
              "      <td>He will be punished.</td>\n",
              "      <td>heisa</td>\n",
              "    </tr>\n",
              "    <tr>\n",
              "      <th>9994</th>\n",
              "      <td>I speak Swedish.</td>\n",
              "      <td>iam</td>\n",
              "    </tr>\n",
              "    <tr>\n",
              "      <th>9995</th>\n",
              "      <td>Have fun, you guys.</td>\n",
              "      <td>ithe</td>\n",
              "    </tr>\n",
              "    <tr>\n",
              "      <th>9996</th>\n",
              "      <td>Give Tom my thanks.</td>\n",
              "      <td>whatdoyou</td>\n",
              "    </tr>\n",
              "    <tr>\n",
              "      <th>9997</th>\n",
              "      <td>Do what you must.</td>\n",
              "      <td>howdidyou</td>\n",
              "    </tr>\n",
              "    <tr>\n",
              "      <th>9998</th>\n",
              "      <td>Tom combed his hair.</td>\n",
              "      <td>tomis</td>\n",
              "    </tr>\n",
              "    <tr>\n",
              "      <th>9999</th>\n",
              "      <td>Is this car yours?</td>\n",
              "      <td>thisisa</td>\n",
              "    </tr>\n",
              "  </tbody>\n",
              "</table>\n",
              "</div>"
            ]
          },
          "metadata": {
            "tags": []
          },
          "execution_count": 54
        }
      ],
      "metadata": {
        "colab": {
          "base_uri": "https://localhost:8080/",
          "height": 511
        },
        "id": "f9hBrA5MN0xs",
        "outputId": "99ed4bbb-2e5a-41fd-e910-3ec0988c7628"
      }
    }
  ]
}